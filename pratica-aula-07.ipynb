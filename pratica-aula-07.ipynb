{
 "cells": [
  {
   "cell_type": "code",
   "execution_count": 1,
   "id": "b70bed7a-15ab-4a4c-997b-ad22543e3d3b",
   "metadata": {
    "tags": []
   },
   "outputs": [
    {
     "name": "stdout",
     "output_type": "stream",
     "text": [
      "Requirement already satisfied: pandas in /opt/conda/lib/python3.10/site-packages (1.5.3)\n",
      "Requirement already satisfied: python-dateutil>=2.8.1 in /opt/conda/lib/python3.10/site-packages (from pandas) (2.8.2)\n",
      "Requirement already satisfied: pytz>=2020.1 in /opt/conda/lib/python3.10/site-packages (from pandas) (2022.7.1)\n",
      "Requirement already satisfied: numpy>=1.21.0 in /opt/conda/lib/python3.10/site-packages (from pandas) (1.23.5)\n",
      "Requirement already satisfied: six>=1.5 in /opt/conda/lib/python3.10/site-packages (from python-dateutil>=2.8.1->pandas) (1.16.0)\n",
      "Requirement already satisfied: pymongo in /opt/conda/lib/python3.10/site-packages (4.5.0)\n",
      "Requirement already satisfied: dnspython<3.0.0,>=1.16.0 in /opt/conda/lib/python3.10/site-packages (from pymongo) (2.4.2)\n",
      "Requirement already satisfied: boto3 in /opt/conda/lib/python3.10/site-packages (1.28.58)\n",
      "Requirement already satisfied: botocore<1.32.0,>=1.31.58 in /opt/conda/lib/python3.10/site-packages (from boto3) (1.31.58)\n",
      "Requirement already satisfied: jmespath<2.0.0,>=0.7.1 in /opt/conda/lib/python3.10/site-packages (from boto3) (1.0.1)\n",
      "Requirement already satisfied: s3transfer<0.8.0,>=0.7.0 in /opt/conda/lib/python3.10/site-packages (from boto3) (0.7.0)\n",
      "Requirement already satisfied: python-dateutil<3.0.0,>=2.1 in /opt/conda/lib/python3.10/site-packages (from botocore<1.32.0,>=1.31.58->boto3) (2.8.2)\n",
      "Requirement already satisfied: urllib3<1.27,>=1.25.4 in /opt/conda/lib/python3.10/site-packages (from botocore<1.32.0,>=1.31.58->boto3) (1.26.14)\n",
      "Requirement already satisfied: six>=1.5 in /opt/conda/lib/python3.10/site-packages (from python-dateutil<3.0.0,>=2.1->botocore<1.32.0,>=1.31.58->boto3) (1.16.0)\n"
     ]
    }
   ],
   "source": [
    "!pip install pandas\n",
    "!pip install pymongo\n",
    "!pip install boto3"
   ]
  },
  {
   "cell_type": "code",
   "execution_count": 5,
   "id": "d1b1fbb7-98c7-4007-9bbd-e1af999ea80c",
   "metadata": {
    "tags": []
   },
   "outputs": [],
   "source": [
    "import pandas as pd\n",
    "import numpy as np\n",
    "from io import BytesIO, StringIO\n",
    "from pymongo import MongoClient\n",
    "import boto3\n",
    "import glob"
   ]
  },
  {
   "cell_type": "code",
   "execution_count": 7,
   "id": "267b43e2-f7e3-43f6-adda-649528d9527a",
   "metadata": {
    "tags": []
   },
   "outputs": [],
   "source": [
    "# Exportando dados em batch para o MinIO\n",
    "arquivos = glob.glob(\"arquivos/arquivos-batch/*.csv\")\n",
    "\n",
    "# # Importa cada arquivo .csv\n",
    "dataframes = []\n",
    "for arquivo in arquivos:\n",
    "    dataframes.append(pd.read_csv(arquivo))\n",
    "\n",
    "# # Concatena todos os dataframes\n",
    "df = pd.concat(dataframes)"
   ]
  },
  {
   "cell_type": "code",
   "execution_count": 10,
   "id": "a8be1f30-ca2a-4e7a-94d0-dd6b8b8072cc",
   "metadata": {
    "tags": []
   },
   "outputs": [],
   "source": [
    "client = boto3.client('s3', \n",
    "    endpoint_url='http://awari-minio-nginx:9000',\n",
    "    aws_access_key_id='pyUuyVY1RvV1zJ4w',\n",
    "    aws_secret_access_key='gUxBmkTbVktZcxCCcALKfhNltUkIQyiT',\n",
    "    aws_session_token=None,\n",
    "    config=boto3.session.Config(signature_version='s3v4'),\n",
    "    verify=False,\n",
    "    region_name='sa-east-1'\n",
    ")"
   ]
  },
  {
   "cell_type": "code",
   "execution_count": 12,
   "id": "0a22a823-c6e3-4fc4-984e-408ee66fd62d",
   "metadata": {
    "tags": []
   },
   "outputs": [
    {
     "data": {
      "text/plain": [
       "{'ResponseMetadata': {'RequestId': '17939FCAE7B93BCC',\n",
       "  'HostId': 'e3b0c44298fc1c149afbf4c8996fb92427ae41e4649b934ca495991b7852b855',\n",
       "  'HTTPStatusCode': 200,\n",
       "  'HTTPHeaders': {'server': 'nginx/1.19.2',\n",
       "   'date': 'Wed, 01 Nov 2023 22:19:39 GMT',\n",
       "   'content-length': '0',\n",
       "   'connection': 'keep-alive',\n",
       "   'accept-ranges': 'bytes',\n",
       "   'content-security-policy': 'block-all-mixed-content',\n",
       "   'etag': '\"daa1a77647f7d203250bc24f8cfe5eaf\"',\n",
       "   'strict-transport-security': 'max-age=31536000; includeSubDomains',\n",
       "   'vary': 'Origin, Accept-Encoding',\n",
       "   'x-amz-bucket-region': 'sa-east-1',\n",
       "   'x-amz-id-2': 'e3b0c44298fc1c149afbf4c8996fb92427ae41e4649b934ca495991b7852b855',\n",
       "   'x-amz-request-id': '17939FCAE7B93BCC',\n",
       "   'x-content-type-options': 'nosniff',\n",
       "   'x-xss-protection': '1; mode=block'},\n",
       "  'RetryAttempts': 0},\n",
       " 'ETag': '\"daa1a77647f7d203250bc24f8cfe5eaf\"'}"
      ]
     },
     "execution_count": 12,
     "metadata": {},
     "output_type": "execute_result"
    }
   ],
   "source": [
    "csv_buffer = StringIO()\n",
    "df.to_csv(csv_buffer)\n",
    "client.put_object(Body=csv_buffer.getvalue(), Bucket='aula-07', Key=\"batch/all.csv\")"
   ]
  },
  {
   "cell_type": "code",
   "execution_count": 13,
   "id": "57f60bca-0136-49a3-b0ee-9e877bfdad25",
   "metadata": {
    "tags": []
   },
   "outputs": [],
   "source": [
    "obj = client.get_object(\n",
    "    Bucket='aula-07', \n",
    "    Key=\"batch/all.csv\"\n",
    ").get(\"Body\")\n",
    "\n",
    "data = pd.read_csv(obj)"
   ]
  },
  {
   "cell_type": "code",
   "execution_count": 16,
   "id": "a1a656b2-b3a9-4818-899f-542d477fefae",
   "metadata": {
    "tags": []
   },
   "outputs": [
    {
     "data": {
      "text/html": [
       "<div>\n",
       "<style scoped>\n",
       "    .dataframe tbody tr th:only-of-type {\n",
       "        vertical-align: middle;\n",
       "    }\n",
       "\n",
       "    .dataframe tbody tr th {\n",
       "        vertical-align: top;\n",
       "    }\n",
       "\n",
       "    .dataframe thead th {\n",
       "        text-align: right;\n",
       "    }\n",
       "</style>\n",
       "<table border=\"1\" class=\"dataframe\">\n",
       "  <thead>\n",
       "    <tr style=\"text-align: right;\">\n",
       "      <th></th>\n",
       "      <th>Unnamed: 0</th>\n",
       "      <th>id</th>\n",
       "      <th>nome</th>\n",
       "      <th>email</th>\n",
       "      <th>endereco</th>\n",
       "      <th>criado_em</th>\n",
       "    </tr>\n",
       "  </thead>\n",
       "  <tbody>\n",
       "    <tr>\n",
       "      <th>0</th>\n",
       "      <td>0</td>\n",
       "      <td>58007732</td>\n",
       "      <td>Dr. Theo Sales</td>\n",
       "      <td>leonardosouza@example.net</td>\n",
       "      <td>Viela de Castro Brazil</td>\n",
       "      <td>2023-11-01 22:00:35</td>\n",
       "    </tr>\n",
       "    <tr>\n",
       "      <th>1</th>\n",
       "      <td>1</td>\n",
       "      <td>21528566</td>\n",
       "      <td>Julia Dias</td>\n",
       "      <td>lopesjoao@example.org</td>\n",
       "      <td>Lagoa de Nunes 96 Brazil</td>\n",
       "      <td>2023-11-01 22:00:35</td>\n",
       "    </tr>\n",
       "    <tr>\n",
       "      <th>2</th>\n",
       "      <td>2</td>\n",
       "      <td>56282406</td>\n",
       "      <td>Pedro Lucas da Rosa</td>\n",
       "      <td>nina42@example.org</td>\n",
       "      <td>Vale de Silveira 71 Brazil</td>\n",
       "      <td>2023-11-01 22:00:35</td>\n",
       "    </tr>\n",
       "    <tr>\n",
       "      <th>3</th>\n",
       "      <td>3</td>\n",
       "      <td>24637095</td>\n",
       "      <td>Marina Ramos</td>\n",
       "      <td>monteiroemilly@example.com</td>\n",
       "      <td>Lagoa de Carvalho 4 Brazil</td>\n",
       "      <td>2023-11-01 22:00:35</td>\n",
       "    </tr>\n",
       "    <tr>\n",
       "      <th>4</th>\n",
       "      <td>4</td>\n",
       "      <td>16852893</td>\n",
       "      <td>Maria Vitória Silva</td>\n",
       "      <td>davi-luizcardoso@example.org</td>\n",
       "      <td>Colônia Nascimento 76 Brazil</td>\n",
       "      <td>2023-11-01 22:00:35</td>\n",
       "    </tr>\n",
       "  </tbody>\n",
       "</table>\n",
       "</div>"
      ],
      "text/plain": [
       "   Unnamed: 0        id                 nome                         email  \\\n",
       "0           0  58007732       Dr. Theo Sales     leonardosouza@example.net   \n",
       "1           1  21528566           Julia Dias         lopesjoao@example.org   \n",
       "2           2  56282406  Pedro Lucas da Rosa            nina42@example.org   \n",
       "3           3  24637095         Marina Ramos    monteiroemilly@example.com   \n",
       "4           4  16852893  Maria Vitória Silva  davi-luizcardoso@example.org   \n",
       "\n",
       "                       endereco            criado_em  \n",
       "0        Viela de Castro Brazil  2023-11-01 22:00:35  \n",
       "1      Lagoa de Nunes 96 Brazil  2023-11-01 22:00:35  \n",
       "2    Vale de Silveira 71 Brazil  2023-11-01 22:00:35  \n",
       "3    Lagoa de Carvalho 4 Brazil  2023-11-01 22:00:35  \n",
       "4  Colônia Nascimento 76 Brazil  2023-11-01 22:00:35  "
      ]
     },
     "execution_count": 16,
     "metadata": {},
     "output_type": "execute_result"
    }
   ],
   "source": [
    "data.head()"
   ]
  },
  {
   "cell_type": "code",
   "execution_count": 17,
   "id": "aa6a7f7e-610a-4742-9526-8697cc0c6be3",
   "metadata": {
    "tags": []
   },
   "outputs": [],
   "source": [
    "# Exportando dados com diferencial para o MinIO\n",
    "\n",
    "old = pd.read_csv('arquivos/arquivos-diferencial/usuarios_old.csv')\n",
    "new = pd.read_csv('arquivos/arquivos-diferencial/usuarios_new.csv')"
   ]
  },
  {
   "cell_type": "code",
   "execution_count": 34,
   "id": "74baf497-d2c8-43b5-abdf-e9cba5018b29",
   "metadata": {
    "tags": []
   },
   "outputs": [
    {
     "data": {
      "text/plain": [
       "{'ResponseMetadata': {'RequestId': '1793A11654792384',\n",
       "  'HostId': 'e3b0c44298fc1c149afbf4c8996fb92427ae41e4649b934ca495991b7852b855',\n",
       "  'HTTPStatusCode': 200,\n",
       "  'HTTPHeaders': {'server': 'nginx/1.19.2',\n",
       "   'date': 'Wed, 01 Nov 2023 22:43:22 GMT',\n",
       "   'content-length': '0',\n",
       "   'connection': 'keep-alive',\n",
       "   'accept-ranges': 'bytes',\n",
       "   'content-security-policy': 'block-all-mixed-content',\n",
       "   'etag': '\"32529cf13d6015e0aa33fa3a6ab221bd\"',\n",
       "   'strict-transport-security': 'max-age=31536000; includeSubDomains',\n",
       "   'vary': 'Origin, Accept-Encoding',\n",
       "   'x-amz-bucket-region': 'sa-east-1',\n",
       "   'x-amz-id-2': 'e3b0c44298fc1c149afbf4c8996fb92427ae41e4649b934ca495991b7852b855',\n",
       "   'x-amz-request-id': '1793A11654792384',\n",
       "   'x-content-type-options': 'nosniff',\n",
       "   'x-xss-protection': '1; mode=block'},\n",
       "  'RetryAttempts': 0},\n",
       " 'ETag': '\"32529cf13d6015e0aa33fa3a6ab221bd\"'}"
      ]
     },
     "execution_count": 34,
     "metadata": {},
     "output_type": "execute_result"
    }
   ],
   "source": [
    "csv_buffer = StringIO()\n",
    "old.to_csv(csv_buffer)\n",
    "client.put_object(Body=csv_buffer.getvalue(), Bucket='aula-07', Key=\"diferencial/usuarios.csv\")"
   ]
  },
  {
   "cell_type": "code",
   "execution_count": 37,
   "id": "5b0ce056-bfd0-48a3-b60b-cc968b9d4259",
   "metadata": {
    "tags": []
   },
   "outputs": [],
   "source": [
    "obj = client.get_object(\n",
    "    Bucket='aula-07', \n",
    "    Key=\"diferencial/usuarios.csv\"\n",
    ").get(\"Body\")\n",
    "\n",
    "usuarios_prod = pd.read_csv(obj)"
   ]
  },
  {
   "cell_type": "code",
   "execution_count": 38,
   "id": "a43ce360-58d3-42cf-b1bd-2775b3537341",
   "metadata": {
    "tags": []
   },
   "outputs": [
    {
     "data": {
      "text/plain": [
       "550"
      ]
     },
     "execution_count": 38,
     "metadata": {},
     "output_type": "execute_result"
    }
   ],
   "source": [
    "len(usuarios_prod)"
   ]
  },
  {
   "cell_type": "code",
   "execution_count": 39,
   "id": "4dc51b33-c6e5-4268-9f3a-8cc6bc32a905",
   "metadata": {
    "tags": []
   },
   "outputs": [],
   "source": [
    "diferencial = new[len(usuarios_prod):]"
   ]
  },
  {
   "cell_type": "code",
   "execution_count": 43,
   "id": "c05b44fe-16db-46e3-9ffa-1a5204b42921",
   "metadata": {
    "tags": []
   },
   "outputs": [],
   "source": [
    "usuarios_final = pd.concat([usuarios_prod, diferencial], ignore_index=True)"
   ]
  },
  {
   "cell_type": "code",
   "execution_count": 48,
   "id": "deb52bf0-cdb0-4d05-89a0-0e10f581345c",
   "metadata": {
    "tags": []
   },
   "outputs": [
    {
     "data": {
      "text/plain": [
       "{'ResponseMetadata': {'RequestId': '1793A35A60175620',\n",
       "  'HostId': 'e3b0c44298fc1c149afbf4c8996fb92427ae41e4649b934ca495991b7852b855',\n",
       "  'HTTPStatusCode': 200,\n",
       "  'HTTPHeaders': {'server': 'nginx/1.19.2',\n",
       "   'date': 'Wed, 01 Nov 2023 23:24:53 GMT',\n",
       "   'content-length': '0',\n",
       "   'connection': 'keep-alive',\n",
       "   'accept-ranges': 'bytes',\n",
       "   'content-security-policy': 'block-all-mixed-content',\n",
       "   'etag': '\"a860df42fc992ddb36bffb2dba7e79e8\"',\n",
       "   'strict-transport-security': 'max-age=31536000; includeSubDomains',\n",
       "   'vary': 'Origin, Accept-Encoding',\n",
       "   'x-amz-bucket-region': 'sa-east-1',\n",
       "   'x-amz-id-2': 'e3b0c44298fc1c149afbf4c8996fb92427ae41e4649b934ca495991b7852b855',\n",
       "   'x-amz-request-id': '1793A35A60175620',\n",
       "   'x-content-type-options': 'nosniff',\n",
       "   'x-xss-protection': '1; mode=block'},\n",
       "  'RetryAttempts': 0},\n",
       " 'ETag': '\"a860df42fc992ddb36bffb2dba7e79e8\"'}"
      ]
     },
     "execution_count": 48,
     "metadata": {},
     "output_type": "execute_result"
    }
   ],
   "source": [
    "csv_buffer = StringIO()\n",
    "usuarios_final.to_csv(csv_buffer)\n",
    "client.put_object(Body=csv_buffer.getvalue(), Bucket='aula-07', Key=\"diferencial/usuarios.csv\")"
   ]
  },
  {
   "cell_type": "code",
   "execution_count": null,
   "id": "63826d38-341c-4e7f-bc30-a271efbffd08",
   "metadata": {},
   "outputs": [],
   "source": [
    "# Exportando dados com kafka para o minio\n",
    "\n",
    "def read_s3_csv(bucket_name, key):\n",
    "    obj = client.get_object(\n",
    "        Bucket=bucket_name, \n",
    "        Key=key\n",
    "    ).get(\"Body\")\n",
    "\n",
    "    return pd.read_csv(obj)\n",
    "    \n",
    "# Cria um consumidor com o Kafka\n",
    "consumer = KafkaConsumer(\n",
    "    'aula07-usuarios',\n",
    "     bootstrap_servers=['awari-kafka:9093'],\n",
    "     auto_offset_reset='earliest',\n",
    "     enable_auto_commit=True,\n",
    "     group_id='my-group',\n",
    "     value_deserializer=lambda x: loads(x.decode('utf-8')))\n",
    "\n",
    "\n",
    "\n",
    "for message in consumer:\n",
    "    \n",
    "    new_record = pd.DataFrame([message.value])\n",
    "\n",
    "    try:\n",
    "        df = read_s3_csv('aula-07', 'streaming/usuarios.csv')\n",
    "    except:\n",
    "        \n",
    "        df = pd.DataFrame(columns=['id', 'nome', 'email', 'endereco', 'criado_em'])\n",
    "\n",
    "        # Anexa o novo registro ao DataFrame existente\n",
    "    df = pd.concat([df, new_record], ignore_index=True)\n",
    "    \n",
    "    csv_buffer = StringIO()\n",
    "    df.to_csv(csv_buffer, index=False)  \n",
    "    client.put_object(Body=csv_buffer.getvalue(), Bucket='aula-07', Key=\"streaming/usuarios.csv\")  # Atualiza o arquivo CSV no S3"
   ]
  }
 ],
 "metadata": {
  "kernelspec": {
   "display_name": "Python 3 (ipykernel)",
   "language": "python",
   "name": "python3"
  },
  "language_info": {
   "codemirror_mode": {
    "name": "ipython",
    "version": 3
   },
   "file_extension": ".py",
   "mimetype": "text/x-python",
   "name": "python",
   "nbconvert_exporter": "python",
   "pygments_lexer": "ipython3",
   "version": "3.10.9"
  }
 },
 "nbformat": 4,
 "nbformat_minor": 5
}
