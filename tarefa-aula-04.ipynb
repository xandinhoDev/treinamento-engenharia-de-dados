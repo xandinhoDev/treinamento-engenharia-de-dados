{
 "cells": [
  {
   "cell_type": "code",
   "execution_count": 2,
   "id": "17109ba8-c4ae-473a-b7bb-384ce378c7d5",
   "metadata": {},
   "outputs": [
    {
     "name": "stdout",
     "output_type": "stream",
     "text": [
      "0\n",
      "1\n",
      "1\n",
      "2\n",
      "3\n",
      "5\n",
      "8\n",
      "13\n",
      "21\n",
      "34\n",
      "55\n",
      "89\n"
     ]
    }
   ],
   "source": [
    "# Criar algoritmo que liste toda a sequência de Fibonacci até o número 100\n",
    "a, b = 0, 1\n",
    "\n",
    "print(a)\n",
    "while b <= 100:\n",
    "    print(b)\n",
    "    a, b = b, a + b"
   ]
  },
  {
   "cell_type": "code",
   "execution_count": 3,
   "id": "9c822e29-ca29-4e35-93a9-eb310d5256ce",
   "metadata": {},
   "outputs": [
    {
     "name": "stdout",
     "output_type": "stream",
     "text": [
      "[2, 2, 2, 2, 2, 2, 2, 2, 2, 2]\n"
     ]
    }
   ],
   "source": [
    "# Criar algoritmo que faça a fatoração do número 1024. (Exemplo de fatoração: 6! = 6*5*4*3*2*1).\n",
    "\n",
    "def fatoracao(numero):\n",
    "    fatores = []\n",
    "    divisor = 2\n",
    "    \n",
    "    while numero > 1:\n",
    "        while numero % divisor == 0:\n",
    "            fatores.append(divisor)\n",
    "            numero //= divisor\n",
    "        divisor += 1\n",
    "    \n",
    "    return fatores\n",
    "\n",
    "numero = 1024\n",
    "fatores = fatoracao(numero)\n",
    "\n",
    "print(fatores)\n",
    "\n"
   ]
  },
  {
   "cell_type": "code",
   "execution_count": 4,
   "id": "85809bda-1b8c-4ec0-b713-c310b545bd1e",
   "metadata": {},
   "outputs": [
    {
     "name": "stdin",
     "output_type": "stream",
     "text": [
      "Informe uma fruta ou digite 999 para encerrar:  melão\n",
      "Informe uma fruta ou digite 999 para encerrar:  melão\n"
     ]
    },
    {
     "name": "stdout",
     "output_type": "stream",
     "text": [
      "melão já está na lista.\n"
     ]
    },
    {
     "name": "stdin",
     "output_type": "stream",
     "text": [
      "Informe uma fruta ou digite 999 para encerrar:  melancia\n",
      "Informe uma fruta ou digite 999 para encerrar:  999\n"
     ]
    },
    {
     "name": "stdout",
     "output_type": "stream",
     "text": [
      "Lista de frutas: ['bananas', 'maçãs', 'peras', 'uvas', 'laranjas', 'melão', 'melancia']\n"
     ]
    }
   ],
   "source": [
    "# Criar uma lista de frutas (bananas, maçãs, peras, uvas, laranjas) e fazer um algoritmo \n",
    "# para consultar se uma fruta existe na lista. Caso não exista, adicionar a nova fruta. \n",
    "# O programa só deve encerrar a brincadeira quando o usuário informar o número 999.\n",
    "\n",
    "frutas = [\"bananas\", \"maçãs\", \"peras\", \"uvas\", \"laranjas\"]\n",
    "\n",
    "while True:\n",
    "    \n",
    "    entrada = input(\"Informe uma fruta ou digite 999 para encerrar: \")\n",
    "    \n",
    "    if entrada == \"999\":\n",
    "        break\n",
    "    \n",
    "    if entrada in frutas:\n",
    "        print(f\"{entrada} já está na lista.\")\n",
    "    else:\n",
    "        frutas.append(entrada)\n",
    "\n",
    "print(\"Lista de frutas:\", frutas)\n"
   ]
  }
 ],
 "metadata": {
  "kernelspec": {
   "display_name": "Python 3 (ipykernel)",
   "language": "python",
   "name": "python3"
  },
  "language_info": {
   "codemirror_mode": {
    "name": "ipython",
    "version": 3
   },
   "file_extension": ".py",
   "mimetype": "text/x-python",
   "name": "python",
   "nbconvert_exporter": "python",
   "pygments_lexer": "ipython3",
   "version": "3.11.5"
  }
 },
 "nbformat": 4,
 "nbformat_minor": 5
}
