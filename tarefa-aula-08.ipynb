{
 "cells": [
  {
   "cell_type": "code",
   "execution_count": 11,
   "id": "fdc4404b-a4fa-4f13-b30d-737ae9b5c5e0",
   "metadata": {
    "tags": []
   },
   "outputs": [
    {
     "name": "stdout",
     "output_type": "stream",
     "text": [
      "Requirement already satisfied: boto3 in /opt/conda/lib/python3.10/site-packages (1.28.58)\n",
      "Requirement already satisfied: s3transfer<0.8.0,>=0.7.0 in /opt/conda/lib/python3.10/site-packages (from boto3) (0.7.0)\n",
      "Requirement already satisfied: botocore<1.32.0,>=1.31.58 in /opt/conda/lib/python3.10/site-packages (from boto3) (1.31.58)\n",
      "Requirement already satisfied: jmespath<2.0.0,>=0.7.1 in /opt/conda/lib/python3.10/site-packages (from boto3) (1.0.1)\n",
      "Requirement already satisfied: urllib3<1.27,>=1.25.4 in /opt/conda/lib/python3.10/site-packages (from botocore<1.32.0,>=1.31.58->boto3) (1.26.14)\n",
      "Requirement already satisfied: python-dateutil<3.0.0,>=2.1 in /opt/conda/lib/python3.10/site-packages (from botocore<1.32.0,>=1.31.58->boto3) (2.8.2)\n",
      "Requirement already satisfied: six>=1.5 in /opt/conda/lib/python3.10/site-packages (from python-dateutil<3.0.0,>=2.1->botocore<1.32.0,>=1.31.58->boto3) (1.16.0)\n"
     ]
    }
   ],
   "source": [
    "!pip install boto3\n",
    "\n",
    "import pyspark\n",
    "import boto3\n",
    "\n",
    "from io import StringIO \n",
    "from pyspark.sql import SparkSession\n",
    "from pyspark.sql.types import StructType,StructField, StringType, IntegerType \n",
    "from pyspark.sql.types import ArrayType, DoubleType, BooleanType\n",
    "from pyspark.sql.functions import col,array_contains"
   ]
  },
  {
   "cell_type": "code",
   "execution_count": 28,
   "id": "f5af4a7a-3671-4616-959c-d9bb888618dc",
   "metadata": {
    "tags": []
   },
   "outputs": [],
   "source": [
    "conf = pyspark.SparkConf()\n",
    "\n",
    "conf.setMaster(\"local[1]\") \n",
    "conf.set(\"spark.driver.host\", \"awari-jupyterlab\") \\\n",
    "    .set(\"spark.sql.sources.commitProtocolClass\", \"org.apache.spark.sql.execution.datasources.SQLHadoopMapReduceCommitProtocol\") \\\n",
    "    .set(\"parquet.enable.summary-metadata\", \"false\") \\\n",
    "    .set(\"mapreduce.fileoutputcommitter.marksuccessfuljobs\", \"false\") \\\n",
    "    .set(\"spark.driver.port\", \"20020\") \\\n",
    "    .set(\"spark.hadoop.fs.s3a.endpoint\", 'awari-nginx:9000') \\\n",
    "    .set(\"spark.hadoop.fs.s3a.endpoint.region\", 'sa-east-1') \\\n",
    "    .set(\"spark.hadoop.fs.s3a.access.key\", 'pyUuyVY1RvV1zJ4w') \\\n",
    "    .set(\"spark.hadoop.fs.s3a.secret.key\", 'gUxBmkTbVktZcxCCcALKfhNltUkIQyiT') \\\n",
    "    .set(\"spark.hadoop.fs.s3a.impl\", \"org.apache.hadoop.fs.s3a.S3AFileSystem\") \\\n",
    "    .set(\"spark.hadoop.fs.s3a.connection.ssl.enabled\", \"false\") \\\n",
    "    .set(\"spark.hadoop.com.amazonaws.services.s3.enableV2\", \"true\") \\\n",
    "    .set(\"spark.hadoop.fs.s3a.committer.staging.conflict-mode\", \"replace\") \\\n",
    "    .set(\"spark.hadoop.fs.s3a.fast.upload\", True) \\\n",
    "    .set(\"spark.hadoop.fs.s3a.path.style.access\", True) \\\n",
    "    .set(\"spark.hadoop.fs.s3a.committer.name\", \"directory\") \\\n",
    "    .set(\"spark.hadoop.fs.s3a.committer.staging.tmp.path\", \"/tmp/staging\")\n",
    "\n",
    "conf.setAppName('AwariAula08-S33')\n",
    "sc = pyspark.SparkContext(conf=conf)\n",
    "\n",
    "spark = SparkSession(sc)"
   ]
  },
  {
   "cell_type": "code",
   "execution_count": 4,
   "id": "9fb39f35-ca1d-44f5-b959-75021ccea997",
   "metadata": {
    "tags": []
   },
   "outputs": [],
   "source": [
    "client = boto3.client('s3', \n",
    "    endpoint_url='http://awari-minio-nginx:9000',\n",
    "    aws_access_key_id='pyUuyVY1RvV1zJ4w',\n",
    "    aws_secret_access_key='gUxBmkTbVktZcxCCcALKfhNltUkIQyiT',\n",
    "    aws_session_token=None,\n",
    "    config=boto3.session.Config(signature_version='s3v4'),\n",
    "    verify=False,\n",
    "    region_name='sa-east-1'\n",
    ")"
   ]
  },
  {
   "cell_type": "code",
   "execution_count": 5,
   "id": "e8d04cf9-c0e6-4a3a-8830-5b8907f05fd8",
   "metadata": {
    "tags": []
   },
   "outputs": [],
   "source": [
    "# Importar CSVs da pasta /exercicios/municipios-estados/csv/ e salvar como arquivos JSON no MinIO.\n",
    "df_estados_csv = spark.read.option(\"header\", True).csv(\"arquivos/estados.csv\")\n",
    "df_municipios_csv = spark.read.option(\"header\", True).csv(\"arquivos/municipios.csv\")\n",
    "\n",
    "df_estados_csv.write.format(\"json\").option(\"header\", \"true\").mode(\"overwrite\").save(\"s3a://aula-08/meu-json/estados.json\")\n",
    "df_municipios_csv.write.format(\"json\").option(\"header\", \"true\").mode(\"overwrite\").save(\"s3a://aula-08/meu-json/municipios.json\")"
   ]
  },
  {
   "cell_type": "code",
   "execution_count": 19,
   "id": "44998212-2526-4152-ae8d-664a62647fd8",
   "metadata": {},
   "outputs": [],
   "source": [
    "# Importar JSONs da pasta de /exercicios/municipios-estados/csv/ e salvar como arquivos CSV no MinIO.\n",
    "\n",
    "df_estados_json = spark.read.option(\"header\", True).json(\"arquivos/estados.json\")\n",
    "df_estados_json.write.option(\"header\", \"true\").csv(\"s3a://aula-08/meu-csv/estados.csv\")"
   ]
  },
  {
   "cell_type": "code",
   "execution_count": 23,
   "id": "e4c1cfff-fc43-4263-a826-bb4ee2a877b8",
   "metadata": {
    "tags": []
   },
   "outputs": [],
   "source": [
    "# Importar CSVs da pasta de /exercicios/municipios-estados/csv/ e salvar como arquivo .parquet no MinIO.\n",
    "\n",
    "# df_estados_csv.write.save(\"s3a://aula-08/meu-parquet2\")\n",
    "df_municipios_csv.write.save(\"s3a://aula-08/meu-parquet3\")"
   ]
  },
  {
   "cell_type": "code",
   "execution_count": null,
   "id": "a31064d0-8345-457b-b477-5672aabb1358",
   "metadata": {},
   "outputs": [],
   "source": [
    "# Importar CSVs da pasta de /exercicios/municipios-estados/csv/ para tabelas no banco de dados PostgreSQL (awari-postgresql-db).\n"
   ]
  }
 ],
 "metadata": {
  "kernelspec": {
   "display_name": "Python 3 (ipykernel)",
   "language": "python",
   "name": "python3"
  },
  "language_info": {
   "codemirror_mode": {
    "name": "ipython",
    "version": 3
   },
   "file_extension": ".py",
   "mimetype": "text/x-python",
   "name": "python",
   "nbconvert_exporter": "python",
   "pygments_lexer": "ipython3",
   "version": "3.10.9"
  }
 },
 "nbformat": 4,
 "nbformat_minor": 5
}
